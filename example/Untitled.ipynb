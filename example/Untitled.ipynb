{
 "cells": [
  {
   "cell_type": "code",
   "execution_count": 1,
   "metadata": {},
   "outputs": [],
   "source": [
    "using Pkg\n",
    "Pkg.activate(\"../\")"
   ]
  },
  {
   "cell_type": "code",
   "execution_count": 5,
   "metadata": {},
   "outputs": [],
   "source": [
    "using Revise\n",
    "using Reshape"
   ]
  },
  {
   "cell_type": "code",
   "execution_count": 7,
   "metadata": {},
   "outputs": [
    {
     "data": {
      "text/latex": [
       "No documentation found.\n",
       "\n",
       "\\texttt{Reshape.@permute} is a macro.\n",
       "\n",
       "\\begin{verbatim}\n",
       "# 1 method for macro \"@permute\":\n",
       "[1] @permute(__source__::LineNumberNode, __module__::Module, expr) in Reshape at /home/dom/Code/Reshape/src/Reshape.jl:128\n",
       "\\end{verbatim}\n"
      ],
      "text/markdown": [
       "No documentation found.\n",
       "\n",
       "`Reshape.@permute` is a macro.\n",
       "\n",
       "```\n",
       "# 1 method for macro \"@permute\":\n",
       "[1] @permute(__source__::LineNumberNode, __module__::Module, expr) in Reshape at /home/dom/Code/Reshape/src/Reshape.jl:128\n",
       "```\n"
      ],
      "text/plain": [
       "  No documentation found.\n",
       "\n",
       "  \u001b[36mReshape.@permute\u001b[39m is a macro.\n",
       "\n",
       "\u001b[36m  # 1 method for macro \"@permute\":\u001b[39m\n",
       "\u001b[36m  [1] @permute(__source__::LineNumberNode, __module__::Module, expr) in Reshape at /home/dom/Code/Reshape/src/Reshape.jl:128\u001b[39m"
      ]
     },
     "execution_count": 7,
     "metadata": {},
     "output_type": "execute_result"
    }
   ],
   "source": [
    "?@permute"
   ]
  }
 ],
 "metadata": {
  "kernelspec": {
   "display_name": "Julia 1.1.0",
   "language": "julia",
   "name": "julia-1.1"
  },
  "language_info": {
   "file_extension": ".jl",
   "mimetype": "application/julia",
   "name": "julia",
   "version": "1.1.0"
  }
 },
 "nbformat": 4,
 "nbformat_minor": 2
}
